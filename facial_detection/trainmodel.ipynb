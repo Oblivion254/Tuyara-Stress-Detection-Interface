{
 "cells": [
  {
   "cell_type": "code",
   "execution_count": 1,
   "id": "19ce7749",
   "metadata": {},
   "outputs": [],
   "source": [
    "from keras.utils import to_categorical\n",
    "from keras_preprocessing.image import load_img\n",
    "from keras.models import Sequential\n",
    "from keras.layers import Dense, Conv2D, Dropout, Flatten, MaxPooling2D\n",
    "import os\n",
    "import pandas as pd\n",
    "import numpy as np"
   ]
  },
  {
   "cell_type": "code",
   "execution_count": 2,
   "id": "02e9c221",
   "metadata": {},
   "outputs": [],
   "source": [
    "TRAIN_DIR = 'images/train'\n",
    "TEST_DIR = 'images/test'"
   ]
  },
  {
   "cell_type": "code",
   "execution_count": 3,
   "id": "ede9c1f1",
   "metadata": {},
   "outputs": [],
   "source": [
    "def createdataframe(dir):\n",
    "    image_paths = []\n",
    "    labels = []\n",
    "    for label in os.listdir(dir):\n",
    "        for imagename in os.listdir(os.path.join(dir,label)):\n",
    "            image_paths.append(os.path.join(dir,label,imagename))\n",
    "            labels.append(label)\n",
    "        print(label, \"completed\")\n",
    "    return image_paths,labels\n"
   ]
  },
  {
   "cell_type": "code",
   "execution_count": 4,
   "id": "a3a8f1a9",
   "metadata": {},
   "outputs": [
    {
     "name": "stdout",
     "output_type": "stream",
     "text": [
      "angry completed\n",
      "disgust completed\n",
      "fear completed\n",
      "happy completed\n",
      "neutral completed\n",
      "sad completed\n",
      "surprise completed\n"
     ]
    }
   ],
   "source": [
    "train = pd.DataFrame()\n",
    "train['image'], train['label'] = createdataframe(TRAIN_DIR)"
   ]
  },
  {
   "cell_type": "code",
   "execution_count": 5,
   "id": "c8a0cd29",
   "metadata": {},
   "outputs": [
    {
     "name": "stdout",
     "output_type": "stream",
     "text": [
      "                                             image     label\n",
      "0         images/train\\angry\\Training_10118481.jpg     angry\n",
      "1         images/train\\angry\\Training_10120469.jpg     angry\n",
      "2         images/train\\angry\\Training_10131352.jpg     angry\n",
      "3         images/train\\angry\\Training_10161559.jpg     angry\n",
      "4          images/train\\angry\\Training_1021836.jpg     angry\n",
      "...                                            ...       ...\n",
      "28704  images/train\\surprise\\Training_99916297.jpg  surprise\n",
      "28705  images/train\\surprise\\Training_99924420.jpg  surprise\n",
      "28706  images/train\\surprise\\Training_99937001.jpg  surprise\n",
      "28707  images/train\\surprise\\Training_99951755.jpg  surprise\n",
      "28708  images/train\\surprise\\Training_99984132.jpg  surprise\n",
      "\n",
      "[28709 rows x 2 columns]\n"
     ]
    }
   ],
   "source": [
    "print(train)"
   ]
  },
  {
   "cell_type": "code",
   "execution_count": 6,
   "id": "7f9688fc",
   "metadata": {},
   "outputs": [
    {
     "name": "stdout",
     "output_type": "stream",
     "text": [
      "angry completed\n",
      "disgust completed\n",
      "fear completed\n",
      "happy completed\n",
      "neutral completed\n",
      "sad completed\n",
      "surprise completed\n"
     ]
    }
   ],
   "source": [
    "test = pd.DataFrame()\n",
    "test['image'], test['label'] = createdataframe(TEST_DIR)"
   ]
  },
  {
   "cell_type": "code",
   "execution_count": 7,
   "id": "7f504f5d",
   "metadata": {},
   "outputs": [
    {
     "name": "stdout",
     "output_type": "stream",
     "text": [
      "                                             image     label\n",
      "0       images/test\\angry\\PrivateTest_10131363.jpg     angry\n",
      "1       images/test\\angry\\PrivateTest_10304478.jpg     angry\n",
      "2        images/test\\angry\\PrivateTest_1054527.jpg     angry\n",
      "3       images/test\\angry\\PrivateTest_10590091.jpg     angry\n",
      "4        images/test\\angry\\PrivateTest_1109992.jpg     angry\n",
      "...                                            ...       ...\n",
      "7173  images/test\\surprise\\PublicTest_98089595.jpg  surprise\n",
      "7174  images/test\\surprise\\PublicTest_98567249.jpg  surprise\n",
      "7175  images/test\\surprise\\PublicTest_98972870.jpg  surprise\n",
      "7176  images/test\\surprise\\PublicTest_99242645.jpg  surprise\n",
      "7177  images/test\\surprise\\PublicTest_99446963.jpg  surprise\n",
      "\n",
      "[7178 rows x 2 columns]\n",
      "0         images/test\\angry\\PrivateTest_10131363.jpg\n",
      "1         images/test\\angry\\PrivateTest_10304478.jpg\n",
      "2          images/test\\angry\\PrivateTest_1054527.jpg\n",
      "3         images/test\\angry\\PrivateTest_10590091.jpg\n",
      "4          images/test\\angry\\PrivateTest_1109992.jpg\n",
      "                            ...                     \n",
      "7173    images/test\\surprise\\PublicTest_98089595.jpg\n",
      "7174    images/test\\surprise\\PublicTest_98567249.jpg\n",
      "7175    images/test\\surprise\\PublicTest_98972870.jpg\n",
      "7176    images/test\\surprise\\PublicTest_99242645.jpg\n",
      "7177    images/test\\surprise\\PublicTest_99446963.jpg\n",
      "Name: image, Length: 7178, dtype: object\n"
     ]
    }
   ],
   "source": [
    "print(test)\n",
    "print(test['image'])"
   ]
  },
  {
   "cell_type": "code",
   "execution_count": 8,
   "id": "693324b0",
   "metadata": {},
   "outputs": [],
   "source": [
    "from tqdm.notebook import tqdm"
   ]
  },
  {
   "cell_type": "code",
   "execution_count": 9,
   "id": "f52ccbbe",
   "metadata": {},
   "outputs": [],
   "source": [
    "def extract_features(images):\n",
    "    features = []\n",
    "    for image in tqdm(images):\n",
    "        img = load_img(image,grayscale =  True )\n",
    "        img = np.array(img)\n",
    "        features.append(img)\n",
    "    features = np.array(features)\n",
    "    features = features.reshape(len(features),48,48,1)\n",
    "    return features\n",
    "    "
   ]
  },
  {
   "cell_type": "code",
   "execution_count": 10,
   "id": "942a9d40",
   "metadata": {},
   "outputs": [
    {
     "data": {
      "application/vnd.jupyter.widget-view+json": {
       "model_id": "d1459900775e42e4902766f16d2989d6",
       "version_major": 2,
       "version_minor": 0
      },
      "text/plain": [
       "  0%|          | 0/28709 [00:00<?, ?it/s]"
      ]
     },
     "metadata": {},
     "output_type": "display_data"
    },
    {
     "name": "stderr",
     "output_type": "stream",
     "text": [
      "c:\\Vicky\\Personal Project space\\.conda\\lib\\site-packages\\keras_preprocessing\\image\\utils.py:107: UserWarning: grayscale is deprecated. Please use color_mode = \"grayscale\"\n",
      "  warnings.warn('grayscale is deprecated. Please use '\n"
     ]
    }
   ],
   "source": [
    "train_features = extract_features(train['image']) "
   ]
  },
  {
   "cell_type": "code",
   "execution_count": 11,
   "id": "c1b294ed",
   "metadata": {},
   "outputs": [
    {
     "data": {
      "application/vnd.jupyter.widget-view+json": {
       "model_id": "b174f7ebc81a44cc83f6ceb3a5ce68f2",
       "version_major": 2,
       "version_minor": 0
      },
      "text/plain": [
       "  0%|          | 0/7178 [00:00<?, ?it/s]"
      ]
     },
     "metadata": {},
     "output_type": "display_data"
    }
   ],
   "source": [
    "test_features = extract_features(test['image'])"
   ]
  },
  {
   "cell_type": "code",
   "execution_count": 12,
   "id": "f78b5d34",
   "metadata": {},
   "outputs": [],
   "source": [
    "x_train = train_features/255.0\n",
    "x_test = test_features/255.0"
   ]
  },
  {
   "cell_type": "code",
   "execution_count": 13,
   "id": "c660fca1",
   "metadata": {},
   "outputs": [],
   "source": [
    "from sklearn.preprocessing import LabelEncoder"
   ]
  },
  {
   "cell_type": "code",
   "execution_count": 14,
   "id": "5384a25b",
   "metadata": {},
   "outputs": [
    {
     "data": {
      "text/html": [
       "<style>#sk-container-id-1 {color: black;background-color: white;}#sk-container-id-1 pre{padding: 0;}#sk-container-id-1 div.sk-toggleable {background-color: white;}#sk-container-id-1 label.sk-toggleable__label {cursor: pointer;display: block;width: 100%;margin-bottom: 0;padding: 0.3em;box-sizing: border-box;text-align: center;}#sk-container-id-1 label.sk-toggleable__label-arrow:before {content: \"▸\";float: left;margin-right: 0.25em;color: #696969;}#sk-container-id-1 label.sk-toggleable__label-arrow:hover:before {color: black;}#sk-container-id-1 div.sk-estimator:hover label.sk-toggleable__label-arrow:before {color: black;}#sk-container-id-1 div.sk-toggleable__content {max-height: 0;max-width: 0;overflow: hidden;text-align: left;background-color: #f0f8ff;}#sk-container-id-1 div.sk-toggleable__content pre {margin: 0.2em;color: black;border-radius: 0.25em;background-color: #f0f8ff;}#sk-container-id-1 input.sk-toggleable__control:checked~div.sk-toggleable__content {max-height: 200px;max-width: 100%;overflow: auto;}#sk-container-id-1 input.sk-toggleable__control:checked~label.sk-toggleable__label-arrow:before {content: \"▾\";}#sk-container-id-1 div.sk-estimator input.sk-toggleable__control:checked~label.sk-toggleable__label {background-color: #d4ebff;}#sk-container-id-1 div.sk-label input.sk-toggleable__control:checked~label.sk-toggleable__label {background-color: #d4ebff;}#sk-container-id-1 input.sk-hidden--visually {border: 0;clip: rect(1px 1px 1px 1px);clip: rect(1px, 1px, 1px, 1px);height: 1px;margin: -1px;overflow: hidden;padding: 0;position: absolute;width: 1px;}#sk-container-id-1 div.sk-estimator {font-family: monospace;background-color: #f0f8ff;border: 1px dotted black;border-radius: 0.25em;box-sizing: border-box;margin-bottom: 0.5em;}#sk-container-id-1 div.sk-estimator:hover {background-color: #d4ebff;}#sk-container-id-1 div.sk-parallel-item::after {content: \"\";width: 100%;border-bottom: 1px solid gray;flex-grow: 1;}#sk-container-id-1 div.sk-label:hover label.sk-toggleable__label {background-color: #d4ebff;}#sk-container-id-1 div.sk-serial::before {content: \"\";position: absolute;border-left: 1px solid gray;box-sizing: border-box;top: 0;bottom: 0;left: 50%;z-index: 0;}#sk-container-id-1 div.sk-serial {display: flex;flex-direction: column;align-items: center;background-color: white;padding-right: 0.2em;padding-left: 0.2em;position: relative;}#sk-container-id-1 div.sk-item {position: relative;z-index: 1;}#sk-container-id-1 div.sk-parallel {display: flex;align-items: stretch;justify-content: center;background-color: white;position: relative;}#sk-container-id-1 div.sk-item::before, #sk-container-id-1 div.sk-parallel-item::before {content: \"\";position: absolute;border-left: 1px solid gray;box-sizing: border-box;top: 0;bottom: 0;left: 50%;z-index: -1;}#sk-container-id-1 div.sk-parallel-item {display: flex;flex-direction: column;z-index: 1;position: relative;background-color: white;}#sk-container-id-1 div.sk-parallel-item:first-child::after {align-self: flex-end;width: 50%;}#sk-container-id-1 div.sk-parallel-item:last-child::after {align-self: flex-start;width: 50%;}#sk-container-id-1 div.sk-parallel-item:only-child::after {width: 0;}#sk-container-id-1 div.sk-dashed-wrapped {border: 1px dashed gray;margin: 0 0.4em 0.5em 0.4em;box-sizing: border-box;padding-bottom: 0.4em;background-color: white;}#sk-container-id-1 div.sk-label label {font-family: monospace;font-weight: bold;display: inline-block;line-height: 1.2em;}#sk-container-id-1 div.sk-label-container {text-align: center;}#sk-container-id-1 div.sk-container {/* jupyter's `normalize.less` sets `[hidden] { display: none; }` but bootstrap.min.css set `[hidden] { display: none !important; }` so we also need the `!important` here to be able to override the default hidden behavior on the sphinx rendered scikit-learn.org. See: https://github.com/scikit-learn/scikit-learn/issues/21755 */display: inline-block !important;position: relative;}#sk-container-id-1 div.sk-text-repr-fallback {display: none;}</style><div id=\"sk-container-id-1\" class=\"sk-top-container\"><div class=\"sk-text-repr-fallback\"><pre>LabelEncoder()</pre><b>In a Jupyter environment, please rerun this cell to show the HTML representation or trust the notebook. <br />On GitHub, the HTML representation is unable to render, please try loading this page with nbviewer.org.</b></div><div class=\"sk-container\" hidden><div class=\"sk-item\"><div class=\"sk-estimator sk-toggleable\"><input class=\"sk-toggleable__control sk-hidden--visually\" id=\"sk-estimator-id-1\" type=\"checkbox\" checked><label for=\"sk-estimator-id-1\" class=\"sk-toggleable__label sk-toggleable__label-arrow\">LabelEncoder</label><div class=\"sk-toggleable__content\"><pre>LabelEncoder()</pre></div></div></div></div></div>"
      ],
      "text/plain": [
       "LabelEncoder()"
      ]
     },
     "execution_count": 14,
     "metadata": {},
     "output_type": "execute_result"
    }
   ],
   "source": [
    "le = LabelEncoder()\n",
    "le.fit(train['label'])"
   ]
  },
  {
   "cell_type": "code",
   "execution_count": 15,
   "id": "50ece229",
   "metadata": {},
   "outputs": [],
   "source": [
    "y_train = le.transform(train['label'])\n",
    "y_test = le.transform(test['label'])"
   ]
  },
  {
   "cell_type": "code",
   "execution_count": 16,
   "id": "5e284299",
   "metadata": {},
   "outputs": [],
   "source": [
    "y_train = to_categorical(y_train,num_classes = 7)\n",
    "y_test = to_categorical(y_test,num_classes = 7)"
   ]
  },
  {
   "cell_type": "code",
   "execution_count": 17,
   "id": "3977223a",
   "metadata": {},
   "outputs": [],
   "source": [
    "model = Sequential()\n",
    "# convolutional layers\n",
    "model.add(Conv2D(128, kernel_size=(3,3), activation='relu', input_shape=(48,48,1)))\n",
    "model.add(MaxPooling2D(pool_size=(2,2)))\n",
    "model.add(Dropout(0.4))\n",
    "\n",
    "model.add(Conv2D(256, kernel_size=(3,3), activation='relu'))\n",
    "model.add(MaxPooling2D(pool_size=(2,2)))\n",
    "model.add(Dropout(0.4))\n",
    "\n",
    "model.add(Conv2D(512, kernel_size=(3,3), activation='relu'))\n",
    "model.add(MaxPooling2D(pool_size=(2,2)))\n",
    "model.add(Dropout(0.4))\n",
    "\n",
    "model.add(Conv2D(512, kernel_size=(3,3), activation='relu'))\n",
    "model.add(MaxPooling2D(pool_size=(2,2)))\n",
    "model.add(Dropout(0.4))\n",
    "\n",
    "model.add(Flatten())\n",
    "# fully connected layers\n",
    "model.add(Dense(512, activation='relu'))\n",
    "model.add(Dropout(0.4))\n",
    "model.add(Dense(256, activation='relu'))\n",
    "model.add(Dropout(0.3))\n",
    "# output layer\n",
    "model.add(Dense(7, activation='softmax'))"
   ]
  },
  {
   "cell_type": "code",
   "execution_count": 18,
   "id": "de986d6e",
   "metadata": {},
   "outputs": [],
   "source": [
    "model.compile(optimizer = 'adam', loss = 'categorical_crossentropy', metrics = 'accuracy' )"
   ]
  },
  {
   "cell_type": "code",
   "execution_count": 19,
   "id": "5cd0b130",
   "metadata": {},
   "outputs": [
    {
     "name": "stdout",
     "output_type": "stream",
     "text": [
      "Epoch 1/90\n",
      "225/225 [==============================] - 432s 2s/step - loss: 1.8252 - accuracy: 0.2465 - val_loss: 1.8142 - val_accuracy: 0.2471\n",
      "Epoch 2/90\n",
      "225/225 [==============================] - 482s 2s/step - loss: 1.8060 - accuracy: 0.2525 - val_loss: 1.7894 - val_accuracy: 0.2488\n",
      "Epoch 3/90\n",
      "225/225 [==============================] - 447s 2s/step - loss: 1.7209 - accuracy: 0.2938 - val_loss: 1.6311 - val_accuracy: 0.3476\n",
      "Epoch 4/90\n",
      "225/225 [==============================] - 471s 2s/step - loss: 1.5997 - accuracy: 0.3670 - val_loss: 1.4481 - val_accuracy: 0.4349\n",
      "Epoch 5/90\n",
      "225/225 [==============================] - 497s 2s/step - loss: 1.4991 - accuracy: 0.4198 - val_loss: 1.3731 - val_accuracy: 0.4714\n",
      "Epoch 6/90\n",
      "225/225 [==============================] - 484s 2s/step - loss: 1.4354 - accuracy: 0.4406 - val_loss: 1.3070 - val_accuracy: 0.4957\n",
      "Epoch 7/90\n",
      "225/225 [==============================] - 477s 2s/step - loss: 1.3918 - accuracy: 0.4674 - val_loss: 1.2899 - val_accuracy: 0.5032\n",
      "Epoch 8/90\n",
      "225/225 [==============================] - 663s 3s/step - loss: 1.3613 - accuracy: 0.4754 - val_loss: 1.2592 - val_accuracy: 0.5093\n",
      "Epoch 9/90\n",
      "225/225 [==============================] - 549s 2s/step - loss: 1.3361 - accuracy: 0.4899 - val_loss: 1.2296 - val_accuracy: 0.5226\n",
      "Epoch 10/90\n",
      "225/225 [==============================] - 607s 3s/step - loss: 1.3079 - accuracy: 0.5010 - val_loss: 1.2157 - val_accuracy: 0.5256\n",
      "Epoch 11/90\n",
      "225/225 [==============================] - 759s 3s/step - loss: 1.2869 - accuracy: 0.5081 - val_loss: 1.1905 - val_accuracy: 0.5380\n",
      "Epoch 12/90\n",
      "225/225 [==============================] - 370s 2s/step - loss: 1.2709 - accuracy: 0.5167 - val_loss: 1.1922 - val_accuracy: 0.5415\n",
      "Epoch 13/90\n",
      "225/225 [==============================] - 355s 2s/step - loss: 1.2554 - accuracy: 0.5242 - val_loss: 1.1678 - val_accuracy: 0.5472\n",
      "Epoch 14/90\n",
      "225/225 [==============================] - 354s 2s/step - loss: 1.2468 - accuracy: 0.5244 - val_loss: 1.1426 - val_accuracy: 0.5542\n",
      "Epoch 15/90\n",
      "225/225 [==============================] - 352s 2s/step - loss: 1.2331 - accuracy: 0.5316 - val_loss: 1.1512 - val_accuracy: 0.5568\n",
      "Epoch 16/90\n",
      "225/225 [==============================] - 352s 2s/step - loss: 1.2191 - accuracy: 0.5386 - val_loss: 1.1563 - val_accuracy: 0.5575\n",
      "Epoch 17/90\n",
      "225/225 [==============================] - 350s 2s/step - loss: 1.2065 - accuracy: 0.5413 - val_loss: 1.1352 - val_accuracy: 0.5616\n",
      "Epoch 18/90\n",
      "225/225 [==============================] - 348s 2s/step - loss: 1.1934 - accuracy: 0.5447 - val_loss: 1.1286 - val_accuracy: 0.5616\n",
      "Epoch 19/90\n",
      "225/225 [==============================] - 345s 2s/step - loss: 1.1801 - accuracy: 0.5571 - val_loss: 1.1157 - val_accuracy: 0.5690\n",
      "Epoch 20/90\n",
      "225/225 [==============================] - 346s 2s/step - loss: 1.1650 - accuracy: 0.5605 - val_loss: 1.1105 - val_accuracy: 0.5769\n",
      "Epoch 21/90\n",
      "225/225 [==============================] - 345s 2s/step - loss: 1.1581 - accuracy: 0.5631 - val_loss: 1.0958 - val_accuracy: 0.5846\n",
      "Epoch 22/90\n",
      "225/225 [==============================] - 345s 2s/step - loss: 1.1514 - accuracy: 0.5626 - val_loss: 1.0923 - val_accuracy: 0.5815\n",
      "Epoch 23/90\n",
      "225/225 [==============================] - 345s 2s/step - loss: 1.1466 - accuracy: 0.5648 - val_loss: 1.0932 - val_accuracy: 0.5850\n",
      "Epoch 24/90\n",
      "225/225 [==============================] - 345s 2s/step - loss: 1.1432 - accuracy: 0.5655 - val_loss: 1.0881 - val_accuracy: 0.5801\n",
      "Epoch 25/90\n",
      "225/225 [==============================] - 347s 2s/step - loss: 1.1251 - accuracy: 0.5742 - val_loss: 1.0840 - val_accuracy: 0.5872\n",
      "Epoch 26/90\n",
      "225/225 [==============================] - 346s 2s/step - loss: 1.1277 - accuracy: 0.5761 - val_loss: 1.0819 - val_accuracy: 0.5878\n",
      "Epoch 27/90\n",
      "225/225 [==============================] - 345s 2s/step - loss: 1.1221 - accuracy: 0.5748 - val_loss: 1.0746 - val_accuracy: 0.5913\n",
      "Epoch 28/90\n",
      "225/225 [==============================] - 345s 2s/step - loss: 1.1119 - accuracy: 0.5808 - val_loss: 1.0738 - val_accuracy: 0.5869\n",
      "Epoch 29/90\n",
      "225/225 [==============================] - 345s 2s/step - loss: 1.1074 - accuracy: 0.5828 - val_loss: 1.0779 - val_accuracy: 0.5875\n",
      "Epoch 30/90\n",
      "225/225 [==============================] - 347s 2s/step - loss: 1.0965 - accuracy: 0.5861 - val_loss: 1.0787 - val_accuracy: 0.5922\n",
      "Epoch 31/90\n",
      "225/225 [==============================] - 345s 2s/step - loss: 1.0887 - accuracy: 0.5923 - val_loss: 1.0736 - val_accuracy: 0.5936\n",
      "Epoch 32/90\n",
      "225/225 [==============================] - 345s 2s/step - loss: 1.0820 - accuracy: 0.5887 - val_loss: 1.0612 - val_accuracy: 0.5981\n",
      "Epoch 33/90\n",
      "225/225 [==============================] - 346s 2s/step - loss: 1.0753 - accuracy: 0.5952 - val_loss: 1.0691 - val_accuracy: 0.5892\n",
      "Epoch 34/90\n",
      "225/225 [==============================] - 345s 2s/step - loss: 1.0614 - accuracy: 0.6021 - val_loss: 1.0515 - val_accuracy: 0.5978\n",
      "Epoch 35/90\n",
      "225/225 [==============================] - 345s 2s/step - loss: 1.0631 - accuracy: 0.5996 - val_loss: 1.0562 - val_accuracy: 0.5982\n",
      "Epoch 36/90\n",
      "225/225 [==============================] - 346s 2s/step - loss: 1.0641 - accuracy: 0.6010 - val_loss: 1.0608 - val_accuracy: 0.5992\n",
      "Epoch 37/90\n",
      "225/225 [==============================] - 348s 2s/step - loss: 1.0526 - accuracy: 0.6033 - val_loss: 1.0628 - val_accuracy: 0.5979\n",
      "Epoch 38/90\n",
      "225/225 [==============================] - 359s 2s/step - loss: 1.0374 - accuracy: 0.6063 - val_loss: 1.0567 - val_accuracy: 0.6057\n",
      "Epoch 39/90\n",
      "225/225 [==============================] - 363s 2s/step - loss: 1.0412 - accuracy: 0.6106 - val_loss: 1.0431 - val_accuracy: 0.6078\n",
      "Epoch 40/90\n",
      "225/225 [==============================] - 352s 2s/step - loss: 1.0356 - accuracy: 0.6109 - val_loss: 1.0440 - val_accuracy: 0.6045\n",
      "Epoch 41/90\n",
      "225/225 [==============================] - 351s 2s/step - loss: 1.0301 - accuracy: 0.6124 - val_loss: 1.0405 - val_accuracy: 0.6064\n",
      "Epoch 42/90\n",
      "225/225 [==============================] - 350s 2s/step - loss: 1.0196 - accuracy: 0.6167 - val_loss: 1.0412 - val_accuracy: 0.6095\n",
      "Epoch 43/90\n",
      "225/225 [==============================] - 348s 2s/step - loss: 1.0138 - accuracy: 0.6198 - val_loss: 1.0375 - val_accuracy: 0.6078\n",
      "Epoch 44/90\n",
      "225/225 [==============================] - 346s 2s/step - loss: 1.0208 - accuracy: 0.6190 - val_loss: 1.0314 - val_accuracy: 0.6066\n",
      "Epoch 45/90\n",
      "225/225 [==============================] - 345s 2s/step - loss: 1.0086 - accuracy: 0.6183 - val_loss: 1.0276 - val_accuracy: 0.6055\n",
      "Epoch 46/90\n",
      "225/225 [==============================] - 345s 2s/step - loss: 0.9989 - accuracy: 0.6257 - val_loss: 1.0357 - val_accuracy: 0.6077\n",
      "Epoch 47/90\n",
      "225/225 [==============================] - 347s 2s/step - loss: 0.9918 - accuracy: 0.6272 - val_loss: 1.0287 - val_accuracy: 0.6099\n",
      "Epoch 48/90\n",
      "225/225 [==============================] - 346s 2s/step - loss: 0.9927 - accuracy: 0.6287 - val_loss: 1.0430 - val_accuracy: 0.6069\n",
      "Epoch 49/90\n",
      "225/225 [==============================] - 345s 2s/step - loss: 0.9861 - accuracy: 0.6318 - val_loss: 1.0356 - val_accuracy: 0.6092\n",
      "Epoch 50/90\n",
      "225/225 [==============================] - 345s 2s/step - loss: 0.9806 - accuracy: 0.6316 - val_loss: 1.0254 - val_accuracy: 0.6144\n",
      "Epoch 51/90\n",
      "225/225 [==============================] - 346s 2s/step - loss: 0.9782 - accuracy: 0.6341 - val_loss: 1.0252 - val_accuracy: 0.6141\n",
      "Epoch 52/90\n",
      "225/225 [==============================] - 345s 2s/step - loss: 0.9698 - accuracy: 0.6351 - val_loss: 1.0302 - val_accuracy: 0.6128\n",
      "Epoch 53/90\n",
      "225/225 [==============================] - 345s 2s/step - loss: 0.9752 - accuracy: 0.6360 - val_loss: 1.0624 - val_accuracy: 0.6046\n",
      "Epoch 54/90\n",
      "225/225 [==============================] - 345s 2s/step - loss: 0.9562 - accuracy: 0.6423 - val_loss: 1.0291 - val_accuracy: 0.6166\n",
      "Epoch 55/90\n",
      "225/225 [==============================] - 346s 2s/step - loss: 0.9599 - accuracy: 0.6407 - val_loss: 1.0393 - val_accuracy: 0.6109\n",
      "Epoch 56/90\n",
      "225/225 [==============================] - 345s 2s/step - loss: 0.9571 - accuracy: 0.6395 - val_loss: 1.0284 - val_accuracy: 0.6084\n",
      "Epoch 57/90\n",
      "225/225 [==============================] - 346s 2s/step - loss: 0.9499 - accuracy: 0.6456 - val_loss: 1.0271 - val_accuracy: 0.6126\n",
      "Epoch 58/90\n",
      "225/225 [==============================] - 346s 2s/step - loss: 0.9373 - accuracy: 0.6502 - val_loss: 1.0302 - val_accuracy: 0.6142\n",
      "Epoch 59/90\n",
      "225/225 [==============================] - 345s 2s/step - loss: 0.9344 - accuracy: 0.6533 - val_loss: 1.0319 - val_accuracy: 0.6127\n",
      "Epoch 60/90\n",
      "225/225 [==============================] - 345s 2s/step - loss: 0.9387 - accuracy: 0.6492 - val_loss: 1.0254 - val_accuracy: 0.6165\n",
      "Epoch 61/90\n",
      "225/225 [==============================] - 346s 2s/step - loss: 0.9289 - accuracy: 0.6511 - val_loss: 1.0266 - val_accuracy: 0.6172\n",
      "Epoch 62/90\n",
      "225/225 [==============================] - 346s 2s/step - loss: 0.9275 - accuracy: 0.6532 - val_loss: 1.0265 - val_accuracy: 0.6174\n",
      "Epoch 63/90\n",
      "225/225 [==============================] - 346s 2s/step - loss: 0.9272 - accuracy: 0.6554 - val_loss: 1.0574 - val_accuracy: 0.6098\n",
      "Epoch 64/90\n",
      "225/225 [==============================] - 345s 2s/step - loss: 0.9167 - accuracy: 0.6597 - val_loss: 1.0209 - val_accuracy: 0.6179\n",
      "Epoch 65/90\n",
      "225/225 [==============================] - 346s 2s/step - loss: 0.9237 - accuracy: 0.6568 - val_loss: 1.0207 - val_accuracy: 0.6188\n",
      "Epoch 66/90\n",
      "225/225 [==============================] - 346s 2s/step - loss: 0.9092 - accuracy: 0.6636 - val_loss: 1.0289 - val_accuracy: 0.6213\n",
      "Epoch 67/90\n",
      "225/225 [==============================] - 346s 2s/step - loss: 0.9062 - accuracy: 0.6639 - val_loss: 1.0319 - val_accuracy: 0.6166\n",
      "Epoch 68/90\n",
      "225/225 [==============================] - 346s 2s/step - loss: 0.9021 - accuracy: 0.6627 - val_loss: 1.0256 - val_accuracy: 0.6190\n",
      "Epoch 69/90\n",
      "225/225 [==============================] - 345s 2s/step - loss: 0.8979 - accuracy: 0.6657 - val_loss: 1.0228 - val_accuracy: 0.6243\n",
      "Epoch 70/90\n",
      "225/225 [==============================] - 346s 2s/step - loss: 0.8884 - accuracy: 0.6712 - val_loss: 1.0287 - val_accuracy: 0.6177\n",
      "Epoch 71/90\n",
      "225/225 [==============================] - 347s 2s/step - loss: 0.8925 - accuracy: 0.6714 - val_loss: 1.0224 - val_accuracy: 0.6181\n",
      "Epoch 72/90\n",
      "225/225 [==============================] - 347s 2s/step - loss: 0.8826 - accuracy: 0.6738 - val_loss: 1.0181 - val_accuracy: 0.6219\n",
      "Epoch 73/90\n",
      "225/225 [==============================] - 346s 2s/step - loss: 0.8843 - accuracy: 0.6728 - val_loss: 1.0227 - val_accuracy: 0.6219\n",
      "Epoch 74/90\n",
      "225/225 [==============================] - 345s 2s/step - loss: 0.8821 - accuracy: 0.6757 - val_loss: 1.0065 - val_accuracy: 0.6261\n",
      "Epoch 75/90\n",
      "225/225 [==============================] - 346s 2s/step - loss: 0.8749 - accuracy: 0.6765 - val_loss: 1.0139 - val_accuracy: 0.6233\n",
      "Epoch 76/90\n",
      "225/225 [==============================] - 346s 2s/step - loss: 0.8665 - accuracy: 0.6797 - val_loss: 1.0262 - val_accuracy: 0.6212\n",
      "Epoch 77/90\n",
      "225/225 [==============================] - 347s 2s/step - loss: 0.8593 - accuracy: 0.6842 - val_loss: 1.0287 - val_accuracy: 0.6169\n",
      "Epoch 78/90\n",
      "225/225 [==============================] - 346s 2s/step - loss: 0.8517 - accuracy: 0.6854 - val_loss: 1.0207 - val_accuracy: 0.6209\n",
      "Epoch 79/90\n",
      "225/225 [==============================] - 346s 2s/step - loss: 0.8611 - accuracy: 0.6862 - val_loss: 1.0243 - val_accuracy: 0.6255\n",
      "Epoch 80/90\n",
      "225/225 [==============================] - 346s 2s/step - loss: 0.8450 - accuracy: 0.6886 - val_loss: 1.0217 - val_accuracy: 0.6282\n",
      "Epoch 81/90\n",
      "225/225 [==============================] - 346s 2s/step - loss: 0.8548 - accuracy: 0.6815 - val_loss: 1.0222 - val_accuracy: 0.6300\n",
      "Epoch 82/90\n",
      "225/225 [==============================] - 346s 2s/step - loss: 0.8490 - accuracy: 0.6892 - val_loss: 1.0186 - val_accuracy: 0.6229\n",
      "Epoch 83/90\n",
      "225/225 [==============================] - 347s 2s/step - loss: 0.8339 - accuracy: 0.6916 - val_loss: 1.0143 - val_accuracy: 0.6319\n",
      "Epoch 84/90\n",
      "225/225 [==============================] - 345s 2s/step - loss: 0.8364 - accuracy: 0.6946 - val_loss: 1.0244 - val_accuracy: 0.6216\n",
      "Epoch 85/90\n",
      "225/225 [==============================] - 345s 2s/step - loss: 0.8438 - accuracy: 0.6876 - val_loss: 1.0105 - val_accuracy: 0.6257\n",
      "Epoch 86/90\n",
      "225/225 [==============================] - 345s 2s/step - loss: 0.8323 - accuracy: 0.6954 - val_loss: 1.0347 - val_accuracy: 0.6190\n",
      "Epoch 87/90\n",
      "225/225 [==============================] - 345s 2s/step - loss: 0.8259 - accuracy: 0.6952 - val_loss: 1.0194 - val_accuracy: 0.6248\n",
      "Epoch 88/90\n",
      "225/225 [==============================] - 349s 2s/step - loss: 0.8151 - accuracy: 0.7023 - val_loss: 1.0263 - val_accuracy: 0.6247\n",
      "Epoch 89/90\n",
      "225/225 [==============================] - 446s 2s/step - loss: 0.8178 - accuracy: 0.7001 - val_loss: 1.0264 - val_accuracy: 0.6258\n",
      "Epoch 90/90\n",
      "225/225 [==============================] - 459s 2s/step - loss: 0.8150 - accuracy: 0.7005 - val_loss: 1.0204 - val_accuracy: 0.6247\n"
     ]
    },
    {
     "data": {
      "text/plain": [
       "<keras.src.callbacks.History at 0x2760c125970>"
      ]
     },
     "execution_count": 19,
     "metadata": {},
     "output_type": "execute_result"
    }
   ],
   "source": [
    "model.fit(x= x_train,y = y_train, batch_size = 128, epochs = 90, validation_data = (x_test,y_test)) "
   ]
  },
  {
   "cell_type": "code",
   "execution_count": 20,
   "id": "2b0f1923",
   "metadata": {},
   "outputs": [
    {
     "name": "stderr",
     "output_type": "stream",
     "text": [
      "c:\\Vicky\\Personal Project space\\.conda\\lib\\site-packages\\keras\\src\\engine\\training.py:3000: UserWarning: You are saving your model as an HDF5 file via `model.save()`. This file format is considered legacy. We recommend using instead the native Keras format, e.g. `model.save('my_model.keras')`.\n",
      "  saving_api.save_model(\n"
     ]
    }
   ],
   "source": [
    "model_json = model.to_json()\n",
    "with open(\"emotiondetectorNEW.json\",'w') as json_file:\n",
    "    json_file.write(model_json)\n",
    "model.save(\"emotiondetectorNEW.h5\")"
   ]
  },
  {
   "cell_type": "code",
   "execution_count": 21,
   "id": "46e2098e",
   "metadata": {},
   "outputs": [],
   "source": [
    "from keras.models import model_from_json"
   ]
  },
  {
   "cell_type": "code",
   "execution_count": 22,
   "id": "90703547",
   "metadata": {},
   "outputs": [],
   "source": [
    "json_file = open(\"emotiondetector.json\", \"r\")\n",
    "model_json = json_file.read()\n",
    "json_file.close()\n",
    "model = model_from_json(model_json)\n",
    "model.load_weights(\"emotiondetector.h5\")"
   ]
  },
  {
   "cell_type": "code",
   "execution_count": 23,
   "id": "3932bbe8",
   "metadata": {},
   "outputs": [],
   "source": [
    "label = ['angry','disgust','fear','happy','neutral','sad','surprise']"
   ]
  },
  {
   "cell_type": "code",
   "execution_count": 24,
   "id": "b0ccbacf",
   "metadata": {},
   "outputs": [],
   "source": [
    "def ef(image):\n",
    "    img = load_img(image,grayscale =  True )\n",
    "    feature = np.array(img)\n",
    "    feature = feature.reshape(1,48,48,1)\n",
    "    return feature/255.0\n",
    "    "
   ]
  },
  {
   "cell_type": "code",
   "execution_count": 25,
   "id": "5882c78e",
   "metadata": {},
   "outputs": [
    {
     "name": "stdout",
     "output_type": "stream",
     "text": [
      "original image is of sad\n"
     ]
    },
    {
     "name": "stderr",
     "output_type": "stream",
     "text": [
      "c:\\Vicky\\Personal Project space\\.conda\\lib\\site-packages\\keras_preprocessing\\image\\utils.py:107: UserWarning: grayscale is deprecated. Please use color_mode = \"grayscale\"\n",
      "  warnings.warn('grayscale is deprecated. Please use '\n"
     ]
    },
    {
     "name": "stdout",
     "output_type": "stream",
     "text": [
      "1/1 [==============================] - 0s 418ms/step\n",
      "model prediction is  sad\n"
     ]
    }
   ],
   "source": [
    "image = 'images/train/sad/Training_2913.jpg'\n",
    "print(\"original image is of sad\")\n",
    "img = ef(image)\n",
    "pred = model.predict(img)\n",
    "pred_label = label[pred.argmax()]\n",
    "print(\"model prediction is \",pred_label)"
   ]
  },
  {
   "cell_type": "code",
   "execution_count": 26,
   "id": "8994206c",
   "metadata": {},
   "outputs": [],
   "source": [
    "import matplotlib.pyplot as plt\n",
    "%matplotlib inline"
   ]
  },
  {
   "cell_type": "code",
   "execution_count": 27,
   "id": "c83af9e1",
   "metadata": {},
   "outputs": [
    {
     "name": "stdout",
     "output_type": "stream",
     "text": [
      "original image is of sad\n",
      "1/1 [==============================] - 0s 39ms/step\n",
      "model prediction is  sad\n"
     ]
    },
    {
     "name": "stderr",
     "output_type": "stream",
     "text": [
      "c:\\Vicky\\Personal Project space\\.conda\\lib\\site-packages\\keras_preprocessing\\image\\utils.py:107: UserWarning: grayscale is deprecated. Please use color_mode = \"grayscale\"\n",
      "  warnings.warn('grayscale is deprecated. Please use '\n"
     ]
    },
    {
     "data": {
      "text/plain": [
       "<matplotlib.image.AxesImage at 0x2760f99d520>"
      ]
     },
     "execution_count": 27,
     "metadata": {},
     "output_type": "execute_result"
    },
    {
     "data": {
      "image/png": "[encoded data removed]",
      "text/plain": [
       "<Figure size 640x480 with 1 Axes>"
      ]
     },
     "metadata": {},
     "output_type": "display_data"
    }
   ],
   "source": [
    "image = 'images/train/sad/Training_2913.jpg'\n",
    "print(\"original image is of sad\")\n",
    "img = ef(image)\n",
    "pred = model.predict(img)\n",
    "pred_label = label[pred.argmax()]\n",
    "print(\"model prediction is \",pred_label)\n",
    "plt.imshow(img.reshape(48,48),cmap='gray')"
   ]
  },
  {
   "cell_type": "code",
   "execution_count": 28,
   "id": "5adb7b7a",
   "metadata": {},
   "outputs": [
    {
     "name": "stdout",
     "output_type": "stream",
     "text": [
      "original image is of fear\n"
     ]
    },
    {
     "ename": "FileNotFoundError",
     "evalue": "[Errno 2] No such file or directory: 'images/train/fear/2.jpg'",
     "output_type": "error",
     "traceback": [
      "\u001b[1;31m---------------------------------------------------------------------------\u001b[0m",
      "\u001b[1;31mFileNotFoundError\u001b[0m                         Traceback (most recent call last)",
      "Cell \u001b[1;32mIn[28], line 3\u001b[0m\n\u001b[0;32m      1\u001b[0m image \u001b[38;5;241m=\u001b[39m \u001b[38;5;124m'\u001b[39m\u001b[38;5;124mimages/train/fear/2.jpg\u001b[39m\u001b[38;5;124m'\u001b[39m\n\u001b[0;32m      2\u001b[0m \u001b[38;5;28mprint\u001b[39m(\u001b[38;5;124m\"\u001b[39m\u001b[38;5;124moriginal image is of fear\u001b[39m\u001b[38;5;124m\"\u001b[39m)\n\u001b[1;32m----> 3\u001b[0m img \u001b[38;5;241m=\u001b[39m \u001b[43mef\u001b[49m\u001b[43m(\u001b[49m\u001b[43mimage\u001b[49m\u001b[43m)\u001b[49m\n\u001b[0;32m      4\u001b[0m pred \u001b[38;5;241m=\u001b[39m model\u001b[38;5;241m.\u001b[39mpredict(img)\n\u001b[0;32m      5\u001b[0m pred_label \u001b[38;5;241m=\u001b[39m label[pred\u001b[38;5;241m.\u001b[39margmax()]\n",
      "Cell \u001b[1;32mIn[24], line 2\u001b[0m, in \u001b[0;36mef\u001b[1;34m(image)\u001b[0m\n\u001b[0;32m      1\u001b[0m \u001b[38;5;28;01mdef\u001b[39;00m \u001b[38;5;21mef\u001b[39m(image):\n\u001b[1;32m----> 2\u001b[0m     img \u001b[38;5;241m=\u001b[39m \u001b[43mload_img\u001b[49m\u001b[43m(\u001b[49m\u001b[43mimage\u001b[49m\u001b[43m,\u001b[49m\u001b[43mgrayscale\u001b[49m\u001b[43m \u001b[49m\u001b[38;5;241;43m=\u001b[39;49m\u001b[43m  \u001b[49m\u001b[38;5;28;43;01mTrue\u001b[39;49;00m\u001b[43m \u001b[49m\u001b[43m)\u001b[49m\n\u001b[0;32m      3\u001b[0m     feature \u001b[38;5;241m=\u001b[39m np\u001b[38;5;241m.\u001b[39marray(img)\n\u001b[0;32m      4\u001b[0m     feature \u001b[38;5;241m=\u001b[39m feature\u001b[38;5;241m.\u001b[39mreshape(\u001b[38;5;241m1\u001b[39m,\u001b[38;5;241m48\u001b[39m,\u001b[38;5;241m48\u001b[39m,\u001b[38;5;241m1\u001b[39m)\n",
      "File \u001b[1;32mc:\\Vicky\\Personal Project space\\.conda\\lib\\site-packages\\keras_preprocessing\\image\\utils.py:113\u001b[0m, in \u001b[0;36mload_img\u001b[1;34m(path, grayscale, color_mode, target_size, interpolation)\u001b[0m\n\u001b[0;32m    110\u001b[0m \u001b[38;5;28;01mif\u001b[39;00m pil_image \u001b[38;5;129;01mis\u001b[39;00m \u001b[38;5;28;01mNone\u001b[39;00m:\n\u001b[0;32m    111\u001b[0m     \u001b[38;5;28;01mraise\u001b[39;00m \u001b[38;5;167;01mImportError\u001b[39;00m(\u001b[38;5;124m'\u001b[39m\u001b[38;5;124mCould not import PIL.Image. \u001b[39m\u001b[38;5;124m'\u001b[39m\n\u001b[0;32m    112\u001b[0m                       \u001b[38;5;124m'\u001b[39m\u001b[38;5;124mThe use of `load_img` requires PIL.\u001b[39m\u001b[38;5;124m'\u001b[39m)\n\u001b[1;32m--> 113\u001b[0m \u001b[38;5;28;01mwith\u001b[39;00m \u001b[38;5;28;43mopen\u001b[39;49m\u001b[43m(\u001b[49m\u001b[43mpath\u001b[49m\u001b[43m,\u001b[49m\u001b[43m \u001b[49m\u001b[38;5;124;43m'\u001b[39;49m\u001b[38;5;124;43mrb\u001b[39;49m\u001b[38;5;124;43m'\u001b[39;49m\u001b[43m)\u001b[49m \u001b[38;5;28;01mas\u001b[39;00m f:\n\u001b[0;32m    114\u001b[0m     img \u001b[38;5;241m=\u001b[39m pil_image\u001b[38;5;241m.\u001b[39mopen(io\u001b[38;5;241m.\u001b[39mBytesIO(f\u001b[38;5;241m.\u001b[39mread()))\n\u001b[0;32m    115\u001b[0m     \u001b[38;5;28;01mif\u001b[39;00m color_mode \u001b[38;5;241m==\u001b[39m \u001b[38;5;124m'\u001b[39m\u001b[38;5;124mgrayscale\u001b[39m\u001b[38;5;124m'\u001b[39m:\n\u001b[0;32m    116\u001b[0m         \u001b[38;5;66;03m# if image is not already an 8-bit, 16-bit or 32-bit grayscale image\u001b[39;00m\n\u001b[0;32m    117\u001b[0m         \u001b[38;5;66;03m# convert it to an 8-bit grayscale image.\u001b[39;00m\n",
      "\u001b[1;31mFileNotFoundError\u001b[0m: [Errno 2] No such file or directory: 'images/train/fear/2.jpg'"
     ]
    }
   ],
   "source": [
    "image = 'images/train/fear/2.jpg'\n",
    "print(\"original image is of fear\")\n",
    "img = ef(image)\n",
    "pred = model.predict(img)\n",
    "pred_label = label[pred.argmax()]\n",
    "print(\"model prediction is \",pred_label)\n",
    "plt.imshow(img.reshape(48,48),cmap='gray')"
   ]
  },
  {
   "cell_type": "code",
   "execution_count": null,
   "id": "e5ea96ba",
   "metadata": {},
   "outputs": [
    {
     "name": "stdout",
     "output_type": "stream",
     "text": [
      "original image is of disgust\n",
      "1/1 [==============================] - 0s 57ms/step\n",
      "model prediction is  disgust\n"
     ]
    },
    {
     "data": {
      "text/plain": [
       "<matplotlib.image.AxesImage at 0x16abfef4d90>"
      ]
     },
     "execution_count": 44,
     "metadata": {},
     "output_type": "execute_result"
    },
    {
     "data": {
      "image/png": "[encoded data removed]",
      "text/plain": [
       "<Figure size 640x480 with 1 Axes>"
      ]
     },
     "metadata": {},
     "output_type": "display_data"
    }
   ],
   "source": [
    "image = 'images/train/disgust/299.jpg'\n",
    "print(\"original image is of disgust\")\n",
    "img = ef(image)\n",
    "pred = model.predict(img)\n",
    "pred_label = label[pred.argmax()]\n",
    "print(\"model prediction is \",pred_label)\n",
    "plt.imshow(img.reshape(48,48),cmap='gray')"
   ]
  },
  {
   "cell_type": "code",
   "execution_count": null,
   "id": "1c4befa7",
   "metadata": {},
   "outputs": [
    {
     "name": "stdout",
     "output_type": "stream",
     "text": [
      "original image is of happy\n",
      "1/1 [==============================] - 0s 42ms/step\n",
      "model prediction is  happy\n"
     ]
    },
    {
     "data": {
      "text/plain": [
       "<matplotlib.image.AxesImage at 0x16ac00a8970>"
      ]
     },
     "execution_count": 45,
     "metadata": {},
     "output_type": "execute_result"
    },
    {
     "data": {
      "image/png": "[encoded data removed]",
      "text/plain": [
       "<Figure size 640x480 with 1 Axes>"
      ]
     },
     "metadata": {},
     "output_type": "display_data"
    }
   ],
   "source": [
    "image = 'images/train/happy/7.jpg'\n",
    "print(\"original image is of happy\")\n",
    "img = ef(image)\n",
    "pred = model.predict(img)\n",
    "pred_label = label[pred.argmax()]\n",
    "print(\"model prediction is \",pred_label)\n",
    "plt.imshow(img.reshape(48,48),cmap='gray')"
   ]
  },
  {
   "cell_type": "code",
   "execution_count": null,
   "id": "8d6bb2fa",
   "metadata": {},
   "outputs": [
    {
     "name": "stdout",
     "output_type": "stream",
     "text": [
      "original image is of surprise\n",
      "1/1 [==============================] - 0s 40ms/step\n",
      "model prediction is  surprise\n"
     ]
    },
    {
     "data": {
      "text/plain": [
       "<matplotlib.image.AxesImage at 0x16abfdd6cb0>"
      ]
     },
     "execution_count": 46,
     "metadata": {},
     "output_type": "execute_result"
    },
    {
     "data": {
      "image/png": "[encoded data removed]",
      "text/plain": [
       "<Figure size 640x480 with 1 Axes>"
      ]
     },
     "metadata": {},
     "output_type": "display_data"
    }
   ],
   "source": [
    "image = 'images/train/surprise/15.jpg'\n",
    "print(\"original image is of surprise\")\n",
    "img = ef(image)\n",
    "pred = model.predict(img)\n",
    "pred_label = label[pred.argmax()]\n",
    "print(\"model prediction is \",pred_label)\n",
    "plt.imshow(img.reshape(48,48),cmap='gray')"
   ]
  },
  {
   "cell_type": "code",
   "execution_count": null,
   "id": "b005764f",
   "metadata": {},
   "outputs": [],
   "source": []
  }
 ],
 "metadata": {
  "kernelspec": {
   "display_name": "Python 3 (ipykernel)",
   "language": "python",
   "name": "python3"
  },
  "language_info": {
   "codemirror_mode": {
    "name": "ipython",
    "version": 3
   },
   "file_extension": ".py",
   "mimetype": "text/x-python",
   "name": "python",
   "nbconvert_exporter": "python",
   "pygments_lexer": "ipython3",
   "version": "3.9.19"
  }
 },
 "nbformat": 4,
 "nbformat_minor": 5
}
